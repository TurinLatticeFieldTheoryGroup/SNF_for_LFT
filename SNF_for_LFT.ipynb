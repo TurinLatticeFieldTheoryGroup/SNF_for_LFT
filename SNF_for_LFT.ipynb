{
  "cells": [
    {
      "cell_type": "markdown",
      "metadata": {
        "id": "mtoB-sIktZ_E"
      },
      "source": [
        "# Stochastic Normalizing Flows for Lattice Field Theory\n",
        "Simple implementation of the Stochastic Normalizing Flows used in: <a href=\"https://link.springer.com/article/10.1007/JHEP07(2022)015\">Stochastic Normalizing Flows as non equilibrium transformations</a>\n",
        "\n",
        "Tutorial on standard Normalizing Flows: [Introduction to Normalizing Flows for Lattice Field Theory](https://arxiv.org/abs/2101.08176)"
      ]
    },
    {
      "cell_type": "markdown",
      "source": [
        "\n",
        "If this code is helpful for your research, please cite us:\n",
        "```\n",
        "@article{caselle2022stochastic,\n",
        "  title={Stochastic normalizing flows as non-equilibrium transformations},\n",
        "  author={Caselle, Michele and Cellini, Elia and Nada, Alessandro and Panero, Marco},\n",
        "  journal={Journal of High Energy Physics},\n",
        "  volume={2022},\n",
        "  number={7},\n",
        "  pages={1--31},\n",
        "  year={2022},\n",
        "  publisher={Springer}\n",
        "}\n",
        "```\n",
        "\n"
      ],
      "metadata": {
        "id": "FAtEaiDbzevp"
      }
    },
    {
      "cell_type": "code",
      "execution_count": null,
      "metadata": {
        "id": "W_j0XKLXwOrG"
      },
      "outputs": [],
      "source": [
        "from IPython.display import display\n",
        "import gc\n",
        "import base64\n",
        "import io\n",
        "import torch\n",
        "import time\n",
        "import matplotlib.pyplot as plt\n",
        "import numpy as np\n",
        "import gc\n",
        "from scipy.special import logsumexp\n",
        "import math"
      ]
    },
    {
      "cell_type": "code",
      "execution_count": null,
      "metadata": {
        "colab": {
          "base_uri": "https://localhost:8080/"
        },
        "id": "4sXGXGYFwYm0",
        "outputId": "70cf8959-20ed-4c23-bd98-5b869ee47a74"
      },
      "outputs": [
        {
          "output_type": "stream",
          "name": "stdout",
          "text": [
            "TORCH DEVICE: cuda\n"
          ]
        },
        {
          "output_type": "stream",
          "name": "stderr",
          "text": [
            "/usr/local/lib/python3.10/dist-packages/torch/__init__.py:1144: UserWarning: torch.set_default_tensor_type() is deprecated as of PyTorch 2.1, please use torch.set_default_dtype() and torch.set_default_device() as alternatives. (Triggered internally at ../torch/csrc/tensor/python_tensor.cpp:432.)\n",
            "  _C._set_default_tensor_type(t)\n"
          ]
        }
      ],
      "source": [
        "if torch.cuda.is_available():\n",
        "    torch_device = 'cuda'\n",
        "    float_dtype = np.float32 # single\n",
        "    torch.set_default_tensor_type(torch.cuda.FloatTensor)\n",
        "else:\n",
        "    torch_device = 'cpu'\n",
        "    float_dtype = np.float64 # double\n",
        "    torch.set_default_tensor_type(torch.DoubleTensor)\n",
        "print(f\"TORCH DEVICE: {torch_device}\")\n"
      ]
    },
    {
      "cell_type": "code",
      "execution_count": null,
      "metadata": {
        "id": "-zTC8A8g5qrg",
        "outputId": "c1912e97-868a-43ae-9eb2-3f8a578295a1",
        "colab": {
          "base_uri": "https://localhost:8080/"
        }
      },
      "outputs": [
        {
          "output_type": "stream",
          "name": "stdout",
          "text": [
            "Tesla T4\n"
          ]
        }
      ],
      "source": [
        "if torch.cuda.is_available():\n",
        "    print(torch.cuda.get_device_name(torch.cuda.current_device()))"
      ]
    },
    {
      "cell_type": "code",
      "execution_count": null,
      "metadata": {
        "id": "35_KNOGgwYp8"
      },
      "outputs": [],
      "source": [
        "#Utility taken from https://arxiv.org/abs/2101.08176\n",
        "def grab(var):\n",
        "    if torch.is_tensor(var):\n",
        "        return var.detach().cpu().numpy()\n",
        "    else:\n",
        "        return var\n",
        "\n",
        "def init_live_plot(nstep, dpi=125, figsize=(8,4)):\n",
        "    fig, ax_ess = plt.subplots(1,1, dpi=dpi, figsize=figsize)\n",
        "    plt.xlim(0, nstep)\n",
        "    plt.ylim(0, 1)\n",
        "\n",
        "    ess_line = plt.plot([0],[0], alpha=0.5) # dummy\n",
        "    plt.grid(False)\n",
        "    plt.ylabel('ESS')\n",
        "\n",
        "    ax_loss = ax_ess.twinx()\n",
        "    loss_line = plt.plot([0],[0], alpha=0.5, c='orange') # dummy\n",
        "    plt.grid(False)\n",
        "    plt.ylabel('Loss')\n",
        "\n",
        "    plt.xlabel('Epoch')\n",
        "\n",
        "    display_id = display(fig, display_id=True)\n",
        "\n",
        "    return dict(\n",
        "        fig=fig, ax_ess=ax_ess, ax_loss=ax_loss,\n",
        "        ess_line=ess_line, loss_line=loss_line,\n",
        "        display_id=display_id\n",
        "    )\n",
        "\n",
        "def moving_average(x, window=10):\n",
        "    if len(x) < window:\n",
        "        return np.mean(x, keepdims=True)\n",
        "    else:\n",
        "        return np.convolve(x, np.ones(window), 'valid') / window\n",
        "\n",
        "def update_plots(history, fig, ax_ess, ax_loss, ess_line, loss_line, display_id):\n",
        "    Y = np.array(history['ess'])\n",
        "    Y = moving_average(Y, window=15)\n",
        "    ess_line[0].set_ydata(Y)\n",
        "    ess_line[0].set_xdata(np.arange(len(Y)))\n",
        "    Y = history['loss']\n",
        "    Y = moving_average(Y, window=15)\n",
        "    loss_line[0].set_ydata(np.array(Y))\n",
        "    loss_line[0].set_xdata(np.arange(len(Y)))\n",
        "    ax_loss.relim()\n",
        "    ax_loss.autoscale_view()\n",
        "    fig.canvas.draw()\n",
        "    display_id.update(fig) # need to force colab to update plot\n",
        "\n",
        "def print_metrics(history, era, epoch, avg_last_N_epochs):\n",
        "    print(f'== Era {era} | Epoch {epoch} metrics ==')\n",
        "    for key, val in history.items():\n",
        "        avgd = np.mean(val[-avg_last_N_epochs:])\n",
        "        print(f'\\t{key} {avgd:g}')"
      ]
    },
    {
      "cell_type": "markdown",
      "metadata": {
        "id": "kHuI6wTRYBIj"
      },
      "source": [
        "Target theory with action:\n",
        "$$S[\\phi]=\\sum_{x\\in\\Lambda}-2\\kappa \\sum_{\\mu=1,2}\\phi(x)\\phi(x+\\hat{\\mu})+(1-2\\lambda)\\phi(x)^2+\\lambda\\phi(x)^4$$"
      ]
    },
    {
      "cell_type": "code",
      "execution_count": null,
      "metadata": {
        "id": "w1ErvfUpwhbI"
      },
      "outputs": [],
      "source": [
        "class ScalarPhi4Action:\n",
        "    def __init__(self, kappa, lam, phi2coeff=0):\n",
        "        self.kappa = kappa\n",
        "        self.lam = lam\n",
        "        self.dims = range(1,3)\n",
        "        if (phi2coeff == 0):\n",
        "            self.phi2coeff = (1.0 - 2.0 * self.lam)\n",
        "        else:\n",
        "            self.phi2coeff = phi2coeff\n",
        "        self.info='_ScalarPhi4_kappa='+str(kappa)+'_lambda='+str(lam)\n",
        "\n",
        "    def __call__(self, cfgs, protocol=[1.,1.,1.]):\n",
        "        return torch.sum(self.action_density(cfgs), dim=tuple(self.dims))\n",
        "\n",
        "    def action_density(self, cfgs, protocol=[1.,1.,1.]):\n",
        "        return self.phi2term(cfgs) + self.phi4term(cfgs) + self.kineticterm(cfgs)\n",
        "\n",
        "    def phi2term(self, cfgs):\n",
        "        return self.phi2coeff * cfgs**2\n",
        "\n",
        "    def phi4term(self, cfgs):\n",
        "        return self.lam * cfgs**4\n",
        "\n",
        "    def kineticterm(self, cfgs):\n",
        "        action_density = cfgs * (torch.roll(cfgs, 1, 1) + torch.roll(cfgs, 1, 2))\n",
        "        return -2.0 * self.kappa * action_density\n",
        "\n",
        "    def local_kineticterm(self, cfgs):\n",
        "        return -2.0 * self.kappa * self.nearest_neighbours_sum(cfgs)\n",
        "\n",
        "    def nearest_neighbours_sum(self, cfgs):\n",
        "        return torch.roll(cfgs, 1, 1) + torch.roll(cfgs, -1, 1) + torch.roll(cfgs, 1, 2) + torch.roll(cfgs, -1, 2)\n",
        "\n",
        "    def delta_local_action(self, x_active, x_frozen, delta, protocol=[1.,1.,1.]):\n",
        "        delta_act = self.phi2term(x_active + delta) - self.phi2term(x_active)\n",
        "        delta_act += self.phi4term(x_active + delta) - self.phi4term(x_active)\n",
        "        delta_act -= 2.0 * self.kappa * delta * self.nearest_neighbours_sum(x_frozen)\n",
        "        return delta_act\n"
      ]
    },
    {
      "cell_type": "markdown",
      "metadata": {
        "id": "BsnYM12Dwuz3"
      },
      "source": [
        "Prior distribution:\n",
        "$$q_0(z)=\\frac{1}{Z_0}e^{-\\sum_i^{|\\Lambda|} \\frac{1}{2\\sigma^2} z_i^2}$$\n",
        "where $Λ$ is a square lattice of size $N_t\\times N_r$"
      ]
    },
    {
      "cell_type": "code",
      "execution_count": null,
      "metadata": {
        "id": "l4SqYRGGvvkE"
      },
      "outputs": [],
      "source": [
        "class SimpleNormal(ScalarPhi4Action):\n",
        "    def __init__(self, loc, stand_dev):\n",
        "        ScalarPhi4Action.__init__(self, kappa=0.,lam=0.,phi2coeff=1./(2*stand_dev**2))\n",
        "        self.dist = torch.distributions.normal.Normal(loc, torch.ones_like(loc) * stand_dev)\n",
        "        self.dist_loc = torch.distributions.normal.Normal(0.0, stand_dev)\n",
        "        self.sd = stand_dev\n",
        "        self.logz0_loc = np.log(stand_dev * np.sqrt(2*np.pi))\n",
        "        self.logz0 = len(torch.flatten(loc)) * self.logz0_loc\n",
        "\n",
        "        self.lam = 0\n",
        "        self.kappa = 0\n",
        "        self.phi2coeff = 1.0 / (2.0 * self.sd**2)\n",
        "\n",
        "    def log_prob(self, x):\n",
        "        logp = self.dist.log_prob(x)\n",
        "        return torch.sum(logp, dim=(1,2))\n",
        "\n",
        "    def sample_n(self, batch_size):\n",
        "        x = self.dist.sample((batch_size,))\n",
        "        return x"
      ]
    },
    {
      "cell_type": "markdown",
      "metadata": {
        "id": "UJ0UpY8WYJzI"
      },
      "source": [
        "The following class is used to compute the action $S_{\\eta_i}$, the protocol which interpolates between the prior and the target theory"
      ]
    },
    {
      "cell_type": "code",
      "execution_count": null,
      "metadata": {
        "id": "eyA-l9VzYKs-"
      },
      "outputs": [],
      "source": [
        "class ActionProtocolPhi4:\n",
        "    def __init__(self, action0, action1):\n",
        "        self.dims = range(1,3)\n",
        "        self.action0 = action0\n",
        "        self.action1 = action1\n",
        "        self.N_protocol_par=3\n",
        "    def __call__(self, cfgs, protocol):\n",
        "        return torch.sum(self.action_density(cfgs, protocol), dim=tuple(self.dims))\n",
        "\n",
        "    def action_density(self, cfgs, protocol):\n",
        "        act = self.phi2coeff(protocol[0]) * cfgs**2 + self.phi4coeff(protocol[1]) * cfgs**4 + self.kincoeff(protocol[2]) * cfgs * (torch.roll(cfgs, 1, 1) + torch.roll(cfgs, 1, 2))\n",
        "        return act\n",
        "\n",
        "    def phi2coeff(self, protocol0):\n",
        "        return protocol0 * self.action1.phi2coeff + (1.0 - protocol0) * self.action0.phi2coeff\n",
        "\n",
        "    def phi4coeff(self, protocol1):\n",
        "        return protocol1 * self.action1.lam + (1.0 - protocol1) * self.action0.lam\n",
        "\n",
        "    def kincoeff(self, protocol2):\n",
        "        return -2.0 * (protocol2 * self.action1.kappa + (1.0 - protocol2) * self.action0.kappa)\n",
        "\n",
        "    def phi4term(self, cfgs, protocol1):\n",
        "        act = self.phi4coeff(protocol1) * cfgs**4\n",
        "        return act\n",
        "\n",
        "    def local_kineticterm(self, cfgs, protocol2):\n",
        "        act = self.kincoeff(protocol2) * self.action1.nearest_neighbours_sum(cfgs)\n",
        "        return act\n",
        "\n",
        "    def delta_local_action(self, x_active, x_frozen, delta, protocol):\n",
        "        delta_act = self.phi2coeff(protocol[0]) * ((x_active + delta)**2 - (x_active)**2)\n",
        "        delta_act += self.phi4coeff(protocol[1]) * ((x_active + delta)**4 - (x_active)**4)\n",
        "        delta_act += self.kincoeff(protocol[2]) * delta * self.action1.nearest_neighbours_sum(x_frozen)\n",
        "\n",
        "        return delta_act"
      ]
    },
    {
      "cell_type": "markdown",
      "metadata": {
        "id": "Cb6qkmepjGxJ"
      },
      "source": [
        "Building block for the affine convolutional coupling layer, see https://arxiv.org/abs/2101.08176"
      ]
    },
    {
      "cell_type": "code",
      "execution_count": null,
      "metadata": {
        "id": "sT6fJX-7wu3g"
      },
      "outputs": [],
      "source": [
        "def make_conv_net(*, hidden_sizes, kernel_size, in_channels, out_channels, use_tanh=False, use_bias=False):\n",
        "    '''\n",
        "    Convolutional Neural Netowrk\n",
        "    hiddens_sizes=[N_filters for hidden layer 1, .... ,N_filters for hidden layer n]\n",
        "    num hidden layers = len(hidden_sizes)\n",
        "    '''\n",
        "    sizes = [in_channels] + hidden_sizes + [out_channels]\n",
        "\n",
        "    padding_size = (kernel_size // 2)\n",
        "    net = []\n",
        "    for i in range(len(sizes) - 1):\n",
        "        conv = torch.nn.Conv2d(sizes[i], sizes[i+1], kernel_size, padding=padding_size, stride=1, padding_mode='zeros', bias=use_bias)\n",
        "        #torch.nn.init.xavier_normal_(conv.weight, gain=torch.nn.init.calculate_gain('tanh'))\n",
        "        #torch.nn.init.normal_(conv.weight, std=0.01)\n",
        "        net.append(conv)\n",
        "        if i != len(sizes) - 2:\n",
        "            if (use_tanh):\n",
        "                net.append(torch.nn.Tanh())\n",
        "            else:\n",
        "                net.append(torch.nn.LeakyReLU(0.1))\n",
        "    net[-1].weight.data.zero_()\n",
        "    if use_bias:\n",
        "        net[-1].bias.data.zero_()\n",
        "    net.append(torch.nn.Tanh())\n",
        "    return torch.nn.Sequential(*net)\n",
        "\n",
        "\n",
        "class AffineCoupling(torch.nn.Module):\n",
        "    '''\n",
        "    RealNVP coupling layer\n",
        "    '''\n",
        "    def __init__(self, net, *, mask_shape, mask_parity, z2_equiv=True):\n",
        "        super().__init__()\n",
        "        self.mask = make_checker_mask(mask_shape, mask_parity)\n",
        "        self.net = net\n",
        "        self.z2_equiv=z2_equiv\n",
        "\n",
        "    def forward(self, x):\n",
        "        x_frozen = self.mask * x\n",
        "        x_active = (1 - self.mask) * x\n",
        "\n",
        "        net_out = self.net(x_frozen.unsqueeze(1)).squeeze(1)\n",
        "        scale, shift = net_out[:,0], net_out[:,1]\n",
        "\n",
        "        if (self.z2_equiv):\n",
        "            s = (1 - self.mask) * torch.abs(scale)\n",
        "        else:\n",
        "            s = (1 - self.mask) * scale\n",
        "        t = (1 - self.mask) * shift\n",
        "\n",
        "        fx = (x_active * torch.exp(-s) - t) + x_frozen\n",
        "        axes = range(1,len(s.size()))\n",
        "        logJ = torch.sum(-s, dim=tuple(axes))\n",
        "        return fx, logJ\n",
        "\n",
        "\n",
        "def make_coupling_layers(*, n_layers, lattice_shape, hidden_sizes, kernel_size,z2_equiv=True):\n",
        "    if z2_equiv:\n",
        "        bias=False\n",
        "        tanh=True\n",
        "    else:\n",
        "        bias=True\n",
        "        tanh=False\n",
        "    layers = []\n",
        "    if (n_layers > 0):\n",
        "        for i in range(n_layers):\n",
        "            parity = i % 2\n",
        "            net = make_conv_net(in_channels=1, out_channels=2, hidden_sizes=hidden_sizes, kernel_size=kernel_size, use_tanh=tanh, use_bias=bias)\n",
        "            coupling = AffineCoupling(net, mask_shape=lattice_shape, mask_parity=parity, z2_equiv=z2_equiv)\n",
        "            layers.append(coupling)\n",
        "\n",
        "    return torch.nn.ModuleList(layers)\n",
        "\n",
        "\n",
        "def make_checker_mask(shape, parity):\n",
        "    checker = torch.ones(shape, dtype=torch.uint8) - parity\n",
        "    checker[::2, ::2] = parity\n",
        "    checker[1::2, 1::2] = parity\n",
        "    return checker\n"
      ]
    },
    {
      "cell_type": "markdown",
      "metadata": {
        "id": "IzMrBKq2jcxK"
      },
      "source": [
        "## Stochastic Normalizing Flows\n",
        "\n",
        "The second main ingredient of Stochastic Normalizing Flows are is the NE-MCMC algorithm, wich main idea is to exploit the Jarzynski equality:\n",
        "$$\\frac{Z_{\\eta_N}}{Z_{\\eta_{0}}}=\\langle e^{-W}\\rangle_f$$\n",
        "\n",
        "in order to compute the partition function of the generated samples knowing the density of the prior $q_0$, the target un-normalized density $S_{\\eta_N}$ and the heat $Q$ of the transformation:\n",
        "$$W(\\phi)=S_{\\eta_{N}}[\\phi_N]-S_{\\eta_{0}}[\\phi_0]-Q(\\phi_0,\\phi_1,...,\\phi_N)$$\n",
        "$$Q=\\sum_{i=1}^{N-1}\\{S_{\\eta_{i+1}}[\\phi_{i+1}]-S_{\\eta_{i+1}}[\\phi_{i}]\\}$$\n",
        "\n",
        "The update used to implement the stochastic layer is the heatbath algorithm.\n",
        "\n",
        "In the case of Stochastic Normalizing Flows, we interlive stocastic updates with Normalizing Flows coupling layers:\n",
        "$$Z_{\\eta_N}=\\langle e^{-w}\\rangle_f$$\n",
        "where\n",
        "$$W=S_{\\eta_N}[\\phi_N]+\\ln q_0 (\\phi_0)-\\ln|\\det J_g|-Q(\\phi_0,\\phi_1,...,\\phi_N)$$\n",
        "with $\\ln|\\det J_g|$ sum of the log determinat of the Jacobian of the normalizing flow layers.\n"
      ]
    },
    {
      "cell_type": "markdown",
      "metadata": {
        "id": "eK7-KYUSwLcb"
      },
      "source": [
        "### Heatbath\n",
        "If we want to generate a new configuration in Markov chain, we can update the lattice by applying a given algorithm one site $\\phi(x)$ at a time, leaving all the other sites fixed. In this way we perform a so-called sweep of the lattice sites. Since the action contains only nearest-neighbour interaction, one can apply the algorithm for all the even sites (leaving the odd ones fixed) and then the other way around. This is convenient on hardware such as GPUs where it is better to perform as many concurrent operations as possible.\n",
        "The action terms that involve the site $\\phi(x)$ look like this:\n",
        "$$S_{loc}(x)=-2\\kappa \\sum_{\\mu=-2,-1,1,2,}\\phi(x)\\phi(x+\\hat{\\mu})+(1-2\\lambda)\\phi(x)^2+\\lambda\\phi(x)^4=A\\phi(x)+B\\phi(x)^2+C\\phi(x)^4$$\n",
        "where A, B and C are fixed coefficients. Of course A depends on the four nearest neighbours, but these are left fixed in the update of $\\phi(x)$. The rest of the action is unchanged and we can ignore it.\n",
        "The goal here is to propose a new $\\phi'$ from the Boltzmann distribution\n",
        "$$p(\\phi(x))\\sim \\exp(-S_{loc}[\\phi])=\\exp(-A\\phi(x)-B\\phi(x)^2-C\\phi(x)^4)$$\n",
        "using a heatbah algorithm. The general details are contained in Chapter 7 of the [Montvay-Muenster book](https://www.cambridge.org/core/books/quantum-fields-on-a-lattice/4401A88CD232B0AEF1409BF6B260883A) on Lattice QCD, as well as a detailed description of the SU(2) gauge theory case.\n",
        "\n",
        "It is remarkably simple to generate a distribution very similar to p: it is simply a shifted normal distribution\n",
        "$$p_0(\\phi(x))\\sim \\exp(−A\\phi − B\\phi^2) \\sim exp(−By^2)$$\n",
        "with $\\phi=y-\\frac{A}{2B}$. One simply samples y from a normal distribution and then calculates $\\phi$.\n",
        "However, this is not the correct distribution: this proposal for the new value of $\\phi$ needs an accept-reject step to take into account the remaining part of the action, that is the $\\exp(−C\\phi^4)$ extra factor in the probability distribution. We do so by accepting/rejecting the proposal with a probability\n",
        "\n",
        "$$\\min\\biggl( 1,\\frac{p(\\phi)}{p_0(\\phi)}\\biggr) =\\min\\biggl( 1,\\exp(−C\\phi^4)\\biggr)$$\n",
        "\n",
        "In principle one should repeat the proposal + accept/reject steps until a valid candidate is accepted. It is more common to set a maximum number of iterations M to avoid getting stuck on a particular value. If the proposal is rejected M times, the old $\\phi(x)$ remains unchanged. Interestingly, M can be as low as 1 without compromising the essential properties of the algorithm. This is the strategy adopted in this code, in order to improve the efficiency on a GPU, where many concurrent operations are to be preferred than repeating the accept-reject step on a subset of sites. The actual, most efficient value of M depends also on the values of $x$ and $\\lambda$.\n"
      ]
    },
    {
      "cell_type": "code",
      "execution_count": null,
      "metadata": {
        "id": "hvJdqjYFw8C9"
      },
      "outputs": [],
      "source": [
        "class MonteCarloUpdate(torch.nn.Module):\n",
        "    def __init__(self, lattice_shape, action_protocol, protocol_pars, nsteps=1, device='cuda'):\n",
        "        super().__init__()\n",
        "\n",
        "        self.pars=protocol_pars\n",
        "\n",
        "        self.nsteps = nsteps #Numbers of stochastic updates for one stochastic layer\n",
        "\n",
        "        self.action_protocol = action_protocol\n",
        "        self.N_pars=action_protocol.N_protocol_par\n",
        "        self.action_density = action_protocol.action_density\n",
        "\n",
        "\n",
        "        self.update = self.local_heatbath\n",
        "        self.heatbathSd = 1.0 / np.sqrt(2.0 * self.action_protocol.phi2coeff(self.pars[0]))\n",
        "        self.norm_dist = torch.distributions.normal.Normal(torch.zeros(lattice_shape), self.heatbathSd)\n",
        "        self.unif_dist = torch.distributions.uniform.Uniform(torch.zeros(lattice_shape), torch.ones(lattice_shape))\n",
        "\n",
        "        self.even_mask = make_checker_mask(lattice_shape, 0)\n",
        "        self.odd_mask = make_checker_mask(lattice_shape, 1)\n",
        "\n",
        "        self.device = device\n",
        "\n",
        "    def heatbath(self, x_active, x_frozen, norm_rn, unif_rn):\n",
        "        nn_sum = self.action_protocol.local_kineticterm(x_frozen, self.pars[2])\n",
        "        shift = - self.heatbathSd**2 * nn_sum\n",
        "\n",
        "        #only one proposal: in principle one could generate a new proposal for not-accepted configurations until they are all accepted\n",
        "        #very inefficient on GPUs\n",
        "        x_active_new = norm_rn + shift\n",
        "        accepted = torch.exp(-self.action_protocol.phi4term(x_active_new, self.pars[1])) > unif_rn\n",
        "        x_active = x_active * ~accepted + x_active_new * accepted\n",
        "        return x_active\n",
        "\n",
        "\n",
        "    def local_heatbath(self, x):\n",
        "        S_old = self.action_density(x, self.pars)\n",
        "\n",
        "        for n in range(self.nsteps):\n",
        "\n",
        "            if self.device == 'cuda':\n",
        "                norm_rn = torch.cuda.FloatTensor(x.shape).normal_(0.0, self.heatbathSd)\n",
        "                unif_rn = torch.cuda.FloatTensor(x.shape).uniform_(0.0, 1.0)\n",
        "            else:\n",
        "                norm_rn = self.norm_dist.sample((x.shape[0],))\n",
        "                unif_rn = self.unif_dist.sample((x.shape[0],))\n",
        "\n",
        "            x_odd = x * self.odd_mask\n",
        "            x_even = x * self.even_mask\n",
        "            x_even = self.heatbath(x_even, x_odd, norm_rn * self.even_mask, unif_rn * self.even_mask)\n",
        "            x_odd = self.heatbath(x_odd, x_even, norm_rn * self.odd_mask, unif_rn * self.odd_mask)\n",
        "\n",
        "            x = x_even + x_odd\n",
        "\n",
        "        S = self.action_density(x, self.pars)\n",
        "        dQ = torch.sum(S - S_old, dim=(1,2))\n",
        "\n",
        "        return x, dQ\n",
        "\n",
        "    def forward(self, x):\n",
        "        x, dQ = self.update(x)\n",
        "\n",
        "        return x, dQ\n",
        "\n",
        "def make_stochastic_layers(*, layers, action_protocol, nsteps, lattice_shape, dl_per_sg=2, sl_per_sg=1, input_protocol=None, device='cuda'):\n",
        "    N_protocol_par=action_protocol.N_protocol_par\n",
        "    if len(layers)==0:\n",
        "        n_stoch_groups = 1\n",
        "        n_stoch_layers = sl_per_sg\n",
        "        dl_per_sg = 0\n",
        "    elif dl_per_sg==0:\n",
        "        n_stoch_groups = 1\n",
        "        n_stoch_layers = n_stoch_groups * sl_per_sg\n",
        "    else:\n",
        "        n_layers = len(layers)\n",
        "        #how many deterministic layers per stochastic layer\n",
        "        #dl_per_sg must be even and a factor of n_layers\n",
        "        n_stoch_groups = n_layers//dl_per_sg\n",
        "        n_stoch_layers = n_stoch_groups * sl_per_sg\n",
        "\n",
        "    for i in range(n_stoch_groups):\n",
        "        pos = (i+1)*dl_per_sg + i*sl_per_sg\n",
        "        for j in range(sl_per_sg):\n",
        "            if (input_protocol is None):\n",
        "                protocol_par = (i*sl_per_sg + j + 1)/n_stoch_layers\n",
        "                protocol_pars=np.ones(N_protocol_par)*protocol_par\n",
        "            elif input_protocol=='non-smooth':\n",
        "                protocol_par = (pos + 1)/(n_layers + n_stoch_layers)\n",
        "                protocol_pars=np.ones(N_protocol_par)*protocol_par\n",
        "            else:\n",
        "                protocol_pars=input_protocol[i+1]\n",
        "\n",
        "            coupling = MonteCarloUpdate(lattice_shape, action_protocol, protocol_pars, nsteps=nsteps, device=device)\n",
        "            layers.insert(pos, coupling)\n",
        "            pos += 1\n",
        "    return torch.nn.ModuleList(layers)\n",
        "\n"
      ]
    },
    {
      "cell_type": "markdown",
      "metadata": {
        "id": "J_xpqoeD3O9e"
      },
      "source": [
        "## Stochastic Normalizing Flows\n",
        "The following class can be used to build Normalizing Flows (stochastic=False), Stochastic Evolution (stochastic=True, n_layers=0) and Stochastic Normalizing Flows (stochastic=True, n_layers>0)."
      ]
    },
    {
      "cell_type": "code",
      "execution_count": null,
      "metadata": {
        "id": "FCIGtrIsFV4C"
      },
      "outputs": [],
      "source": [
        "class Flow:\n",
        "    def __init__(self, prior, action, lattice_shape, n_layers, hidden_sizes, kernel_size=3, z2_equiv=True,\n",
        "                 stochastic=False, protocol_action=None, dl_per_sg=2, sl_per_sg=1, MCnsteps=1, input_protocol=None,\n",
        "                device  = 'cuda'):\n",
        "        self.prior = prior\n",
        "        self.lattice_shape = lattice_shape\n",
        "        self.history = {'loss' : [], 'loss_var' : [], 'ess' : [], 'logZ' : []}\n",
        "        self.z2_equiv = z2_equiv\n",
        "        self.kernel_size = kernel_size\n",
        "        self.action=action\n",
        "\n",
        "        self.layers = make_coupling_layers(z2_equiv=z2_equiv, lattice_shape=lattice_shape, n_layers=n_layers, hidden_sizes=hidden_sizes, kernel_size=kernel_size)\n",
        "\n",
        "        if stochastic:\n",
        "            self.layers = make_stochastic_layers(layers=self.layers, action_protocol=protocol_action, dl_per_sg=dl_per_sg, nsteps=MCnsteps,\n",
        "                                                 lattice_shape=lattice_shape, sl_per_sg=sl_per_sg, input_protocol=input_protocol, device=device)\n",
        "\n",
        "\n",
        "        self.device = device\n",
        "        if device == 'cuda':\n",
        "            self.layers.to(device)\n",
        "\n",
        "    def __call__(self, batch_size):\n",
        "        z = self.prior.sample_n(batch_size).to(self.device)\n",
        "        logq = self.prior.log_prob(z)\n",
        "        x, Q = self.apply_flow(z, self.layers, batch_size = batch_size)\n",
        "        return x, logq, Q\n",
        "\n",
        "    def apply_flow(self, z, coupling_layers, *, batch_size):\n",
        "        Q = torch.zeros(batch_size)\n",
        "        i = 0\n",
        "        x = z\n",
        "        for layer in coupling_layers:\n",
        "            x, dQ, = layer.forward(x)\n",
        "            Q = Q + dQ\n",
        "            i = i + 1\n",
        "        return x, Q\n",
        "\n",
        "    def compute_metrics(self, w):\n",
        "        loss = w.mean()\n",
        "        w_np = grab(w)\n",
        "        loss_var = w_np.var()\n",
        "        N = len(w_np)\n",
        "        logZ = logsumexp(-w_np)\n",
        "        log_ess = 2.0 * logZ - logsumexp(-2 * w_np)\n",
        "        ess_per_cfg = np.exp(log_ess) / N\n",
        "        logZ = logZ - np.log(N)\n",
        "\n",
        "        return loss, loss_var, ess_per_cfg, -logZ\n",
        "\n",
        "    def print_metrics(self, era, epoch, avg_last_N_epochs, t0):\n",
        "\n",
        "        print(f'== Era {era} | Epoch {epoch} metrics ==')\n",
        "        for key, val in self.history.items():\n",
        "            avgd = np.mean(val[-avg_last_N_epochs:])\n",
        "            print(f'\\t{key} {avgd:g}')\n",
        "        print(time.time()-t0)\n",
        "\n",
        "\n",
        "    def compile(self, base_lr=.001,patience=500, factor=0.92):\n",
        "        self.optimizer = torch.optim.Adam(self.layers.parameters(), lr=base_lr)\n",
        "        self.scheduler = torch.optim.lr_scheduler.ReduceLROnPlateau(self.optimizer, 'min', factor=factor, patience=patience, min_lr=1e-07, verbose=True)\n",
        "\n",
        "\n",
        "    def train_step(self, batch_size, use_crooks=False):\n",
        "        self.optimizer.zero_grad()\n",
        "\n",
        "        x, logq, Q = self(batch_size=batch_size)\n",
        "\n",
        "        act = self.action(x)\n",
        "        w = act + logq - Q\n",
        "        loss, loss_var, ess, logZ = self.compute_metrics(w)\n",
        "\n",
        "        loss.backward()\n",
        "\n",
        "        self.optimizer.step()\n",
        "        self.scheduler.step(loss)\n",
        "\n",
        "        self.history['loss'].append(grab(loss))\n",
        "        self.history['loss_var'].append(grab(loss_var))\n",
        "        self.history['ess'].append(grab(ess))\n",
        "        self.history['logZ'].append(grab(logZ))\n",
        "\n",
        "\n",
        "    def fit(self, *, N_era, N_epoch, batch_size, verbose=True, live=True):\n",
        "\n",
        "        print(' N_era=' + str(N_era) + '\\n N_epoch=' + str(N_epoch) + '\\n batch_size=' + str(batch_size) + '\\n')\n",
        "\n",
        "        if live:\n",
        "            [plt.close(plt.figure(fignum)) for fignum in plt.get_fignums()] # close all existing figures\n",
        "            live_plot = init_live_plot(N_era*N_epoch)\n",
        "\n",
        "        t0=time.time()\n",
        "        for era in range(N_era):\n",
        "            for epoch in range(N_epoch):\n",
        "                self.train_step(batch_size)\n",
        "                if verbose:\n",
        "                    if epoch % N_epoch == 0:\n",
        "                        self.print_metrics(era, epoch, avg_last_N_epochs=N_epoch, t0=t0)\n",
        "                if live:\n",
        "                    if epoch % 1 == 0:\n",
        "                        update_plots(self.history, **live_plot)\n",
        "\n",
        "\n",
        "        print('Last learning rate = ' + str(self.scheduler._last_lr))\n",
        "\n",
        "        return self.history\n",
        "\n"
      ]
    },
    {
      "cell_type": "markdown",
      "metadata": {
        "id": "6WzD5j6x3vsg"
      },
      "source": [
        "Simple test of the training of Stochastic Normalizing Flows:"
      ]
    },
    {
      "cell_type": "code",
      "execution_count": null,
      "metadata": {
        "colab": {
          "base_uri": "https://localhost:8080/",
          "height": 1000
        },
        "id": "rLcHBfwvSlEH",
        "outputId": "2157158f-c326-4303-a75a-20028c9bf91e"
      },
      "outputs": [
        {
          "output_type": "stream",
          "name": "stdout",
          "text": [
            "AffineCoupling(\n",
            "  (net): Sequential(\n",
            "    (0): Conv2d(1, 32, kernel_size=(3, 3), stride=(1, 1), padding=(1, 1), bias=False)\n",
            "    (1): Tanh()\n",
            "    (2): Conv2d(32, 32, kernel_size=(3, 3), stride=(1, 1), padding=(1, 1), bias=False)\n",
            "    (3): Tanh()\n",
            "    (4): Conv2d(32, 2, kernel_size=(3, 3), stride=(1, 1), padding=(1, 1), bias=False)\n",
            "    (5): Tanh()\n",
            "  )\n",
            ")\n",
            "AffineCoupling(\n",
            "  (net): Sequential(\n",
            "    (0): Conv2d(1, 32, kernel_size=(3, 3), stride=(1, 1), padding=(1, 1), bias=False)\n",
            "    (1): Tanh()\n",
            "    (2): Conv2d(32, 32, kernel_size=(3, 3), stride=(1, 1), padding=(1, 1), bias=False)\n",
            "    (3): Tanh()\n",
            "    (4): Conv2d(32, 2, kernel_size=(3, 3), stride=(1, 1), padding=(1, 1), bias=False)\n",
            "    (5): Tanh()\n",
            "  )\n",
            ")\n"
          ]
        },
        {
          "output_type": "stream",
          "name": "stderr",
          "text": [
            "/usr/local/lib/python3.10/dist-packages/torch/optim/lr_scheduler.py:62: UserWarning: The verbose parameter is deprecated. Please use get_last_lr() to access the learning rate.\n",
            "  warnings.warn(\n"
          ]
        },
        {
          "output_type": "stream",
          "name": "stdout",
          "text": [
            " N_era=1000\n",
            " N_epoch=10\n",
            " batch_size=100\n",
            "\n"
          ]
        },
        {
          "output_type": "display_data",
          "data": {
            "text/plain": [
              "<Figure size 1000x500 with 2 Axes>"
            ],
            "image/png": "[encoded data removed]"
          },
          "metadata": {}
        },
        {
          "output_type": "stream",
          "name": "stdout",
          "text": [
            "== Era 0 | Epoch 0 metrics ==\n",
            "\tloss -148.762\n",
            "\tloss_var 31.5444\n",
            "\tess 0.034992\n",
            "\tlogZ -156.333\n",
            "0.46685361862182617\n",
            "== Era 1 | Epoch 0 metrics ==\n",
            "\tloss -158.613\n",
            "\tloss_var 19.8608\n",
            "\tess 0.0253649\n",
            "\tlogZ -166.764\n",
            "3.4578607082366943\n",
            "== Era 2 | Epoch 0 metrics ==\n",
            "\tloss -167.809\n",
            "\tloss_var 13.7673\n",
            "\tess 0.0261465\n",
            "\tlogZ -173.633\n",
            "5.732755184173584\n",
            "== Era 3 | Epoch 0 metrics ==\n",
            "\tloss -167.844\n",
            "\tloss_var 13.3737\n",
            "\tess 0.0289528\n",
            "\tlogZ -174.146\n",
            "8.063147783279419\n",
            "== Era 4 | Epoch 0 metrics ==\n",
            "\tloss -168.527\n",
            "\tloss_var 14.1394\n",
            "\tess 0.0329505\n",
            "\tlogZ -174.695\n",
            "10.351672649383545\n",
            "== Era 5 | Epoch 0 metrics ==\n",
            "\tloss -168.708\n",
            "\tloss_var 13.7947\n",
            "\tess 0.0301059\n",
            "\tlogZ -174.704\n",
            "12.560707807540894\n",
            "== Era 6 | Epoch 0 metrics ==\n",
            "\tloss -168.627\n",
            "\tloss_var 13.1734\n",
            "\tess 0.0340949\n",
            "\tlogZ -174.393\n",
            "15.29367470741272\n"
          ]
        }
      ],
      "source": [
        "Ns = 16  #Spatial extension\n",
        "Nt = 16 #Temporal extension\n",
        "lattice_shape = (Nt,Ns)\n",
        "n_layers = 24   #number of affine coupling layers ( 1 affine block=2 affine coupling layers)\n",
        "hidden_sizes = [32,32] #hidden size of the convolutional network (we are using just the output layers)\n",
        "kernel_size = 3  #Kernel size\n",
        "N_era = 1000     #one Era correspond to N epoch\n",
        "N_epoch = 10    #Numbers of gradient updates for one Era\n",
        "batch_size = 100 #batch size for one epoch\n",
        "base_lr = .0001 #initial learning rate\n",
        "sl_per_sg = 1 # # of stochastic layer for stochastic group / #of steps of SE when n_layers=0\n",
        "\n",
        "\n",
        "#target action\n",
        "k=0.27\n",
        "lam=0.022\n",
        "action=ScalarPhi4Action(k,lam)\n",
        "#prior\n",
        "sd=math.sqrt(1.0/(4.0*lam+2))\n",
        "prior = SimpleNormal(torch.zeros(lattice_shape),sd)\n",
        "#protocol action\n",
        "protocol_action=ActionProtocolPhi4(prior,action)\n",
        "#flow class\n",
        "flow=Flow(stochastic=False, sl_per_sg=sl_per_sg, MCnsteps=1, dl_per_sg=2,\n",
        "          prior=prior, lattice_shape=lattice_shape,kernel_size=kernel_size, n_layers=n_layers,\n",
        "          hidden_sizes=hidden_sizes, z2_equiv=True,\n",
        "          action=action, protocol_action=protocol_action,input_protocol='non-smooth', device=torch_device)\n",
        "\n",
        "print(flow.layers[0]) #print the first coupling layer\n",
        "print(flow.layers[2]) #print the first stochastic layer\n",
        "\n",
        "flow.compile(0.0001) #we use ADAM as optimizer and ReduceLROnPlateau scheduler\n",
        "#Training:\n",
        "history=flow.fit(N_era=N_era, N_epoch=N_epoch, batch_size = batch_size, verbose=True, live=True)\n"
      ]
    },
    {
      "cell_type": "code",
      "execution_count": null,
      "metadata": {
        "id": "qs00NNNGf1sR"
      },
      "outputs": [],
      "source": [
        "\n"
      ]
    },
    {
      "cell_type": "code",
      "source": [],
      "metadata": {
        "id": "AVwcGXSUuH2q"
      },
      "execution_count": null,
      "outputs": []
    }
  ],
  "metadata": {
    "accelerator": "GPU",
    "colab": {
      "provenance": [],
      "gpuType": "T4"
    },
    "kernelspec": {
      "display_name": "Python 3",
      "name": "python3"
    },
    "language_info": {
      "codemirror_mode": {
        "name": "ipython",
        "version": 3
      },
      "file_extension": ".py",
      "mimetype": "text/x-python",
      "name": "python",
      "nbconvert_exporter": "python",
      "pygments_lexer": "ipython3",
      "version": "3.6.9"
    }
  },
  "nbformat": 4,
  "nbformat_minor": 0
}